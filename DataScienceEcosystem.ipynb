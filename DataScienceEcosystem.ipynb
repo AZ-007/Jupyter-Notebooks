{
 "cells": [
  {
   "cell_type": "markdown",
   "id": "45bca859-3160-47fb-8df9-66208d0c02f1",
   "metadata": {},
   "source": [
    "# Data Science Tools and Ecosystem"
   ]
  },
  {
   "cell_type": "markdown",
   "id": "92a59b74-2ca7-4cf0-beed-166ae1277ff0",
   "metadata": {},
   "source": [
    "## In this notebook, Data Science Tools and Ecosystem are summarized.\n"
   ]
  },
  {
   "cell_type": "markdown",
   "id": "588f22d8-7957-4bed-8beb-b23a2302a1cc",
   "metadata": {},
   "source": [
    "### Some of the popular languages that Data Scientists use are:\n",
    "1. Python\n",
    "2. C++\n",
    "3. Java\n",
    "4. Scala"
   ]
  },
  {
   "cell_type": "markdown",
   "id": "69c14a20-2eae-41c1-90f3-d1de650d2b24",
   "metadata": {},
   "source": [
    "### Some of the commonly used libraries used by Data Scientists include:\n",
    "\n",
    "1. Pandas\n",
    "2. Numpy\n",
    "3. scikit-learn\n",
    "4. Matplotlib\n"
   ]
  },
  {
   "cell_type": "markdown",
   "id": "08530e2c-8901-4693-844f-5955a90bed17",
   "metadata": {},
   "source": [
    "| Data Science Tools |\n",
    "| :----------------: |\n",
    "|   VCode            |\n",
    "|   PyCharm          |\n",
    "|   RStudio          |"
   ]
  },
  {
   "cell_type": "markdown",
   "id": "80b5eae2-2b69-4bd8-a823-f65888808705",
   "metadata": {},
   "source": [
    "#### Below are a few examples of evaluating arithmetic expressions in Python:\n"
   ]
  },
  {
   "cell_type": "code",
   "execution_count": 2,
   "id": "01261a9d-7f24-4620-af84-4b77138ea5c4",
   "metadata": {
    "tags": []
   },
   "outputs": [
    {
     "name": "stdout",
     "output_type": "stream",
     "text": [
      "7 1 12\n"
     ]
    }
   ],
   "source": [
    "x= 4\n",
    "y=3\n",
    "z=x+y\n",
    "c=x-y\n",
    "v=x*y\n",
    "\n",
    "print(z,c,v)"
   ]
  },
  {
   "cell_type": "code",
   "execution_count": 3,
   "id": "f4c18c78-b9dd-46c6-8690-22eeade3bb14",
   "metadata": {
    "tags": []
   },
   "outputs": [
    {
     "name": "stdout",
     "output_type": "stream",
     "text": [
      "17\n"
     ]
    }
   ],
   "source": [
    "(3*4)+5\n",
    "x=3\n",
    "y=4\n",
    "z=5\n",
    "c=x*y+z\n",
    "print(c)"
   ]
  },
  {
   "cell_type": "code",
   "execution_count": 8,
   "id": "d3e17fda-6a71-4da5-bf4b-7815574ac83b",
   "metadata": {
    "tags": []
   },
   "outputs": [
    {
     "name": "stdout",
     "output_type": "stream",
     "text": [
      "This will convert 200 minutes to hours by diving by 60: \n",
      "3.3333333333333335\n"
     ]
    }
   ],
   "source": [
    "x=200\n",
    "y=60\n",
    "z=x/y\n",
    "print(\"This will convert 200 minutes to hours by diving by 60: \")\n",
    "print(z)"
   ]
  },
  {
   "cell_type": "markdown",
   "id": "a65a5205-ee4c-42d8-bd25-b6ed4d598a6c",
   "metadata": {},
   "source": [
    "## **Objectives:**\n",
    "List popular languages for Data Science:\n",
    "- Python\n",
    "- R\n",
    "- C++\n"
   ]
  },
  {
   "cell_type": "markdown",
   "id": "67caf4dd-92e6-49b6-ae6c-fa9b5c2c9c28",
   "metadata": {},
   "source": [
    "## Author \n",
    "Abdualziz Asiri"
   ]
  },
  {
   "cell_type": "code",
   "execution_count": null,
   "id": "3e5c41e7-b594-4511-a074-9c902e5efc71",
   "metadata": {},
   "outputs": [],
   "source": []
  }
 ],
 "metadata": {
  "kernelspec": {
   "display_name": "Python",
   "language": "python",
   "name": "conda-env-python-py"
  },
  "language_info": {
   "codemirror_mode": {
    "name": "ipython",
    "version": 3
   },
   "file_extension": ".py",
   "mimetype": "text/x-python",
   "name": "python",
   "nbconvert_exporter": "python",
   "pygments_lexer": "ipython3",
   "version": "3.7.12"
  }
 },
 "nbformat": 4,
 "nbformat_minor": 5
}
